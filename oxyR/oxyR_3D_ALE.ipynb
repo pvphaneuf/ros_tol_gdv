{
 "cells": [
  {
   "cell_type": "code",
   "execution_count": null,
   "metadata": {},
   "outputs": [],
   "source": [
    "import pandas as pd"
   ]
  },
  {
   "cell_type": "code",
   "execution_count": null,
   "metadata": {},
   "outputs": [],
   "source": [
    "var_df = pd.read_csv('oxyR_ale_muts.csv')\n",
    "var_df.fillna('', inplace=True)\n",
    "var_df"
   ]
  },
  {
   "cell_type": "code",
   "execution_count": null,
   "metadata": {},
   "outputs": [],
   "source": [
    "import warnings\n",
    "warnings.filterwarnings('ignore')\n",
    "\n",
    "\n",
    "out_df = pd.DataFrame(columns=['AA position', 'mutation count', 'color'])\n",
    "for g, gdf in var_df.groupby(['AA pos', 'mutation effect color']):\n",
    "    out_df = out_df.append({\n",
    "        # display(g, gdf, )\n",
    "        'AA position': g[0],\n",
    "        'color': g[1],\n",
    "        'mutation count': gdf['mutation count'].sum()\n",
    "    }, ignore_index=True)\n",
    "out_df"
   ]
  },
  {
   "cell_type": "code",
   "execution_count": null,
   "metadata": {},
   "outputs": [],
   "source": [
    "# the structure for IscR currently being used includes the start Methionine,\n",
    "# therefore variant residue position is the same as the AA position.\n",
    "out_df['residue pos'] = out_df['AA position']\n",
    "out_df.head()"
   ]
  },
  {
   "cell_type": "code",
   "execution_count": null,
   "metadata": {},
   "outputs": [],
   "source": [
    "with open('vars.json', 'w') as outfile:  # for NGL\n",
    "    outfile.write(out_df.to_json())"
   ]
  }
 ],
 "metadata": {
  "kernelspec": {
   "display_name": "Python 3",
   "language": "python",
   "name": "python3"
  },
  "language_info": {
   "codemirror_mode": {
    "name": "ipython",
    "version": 3
   },
   "file_extension": ".py",
   "mimetype": "text/x-python",
   "name": "python",
   "nbconvert_exporter": "python",
   "pygments_lexer": "ipython3",
   "version": "3.9.13"
  },
  "orig_nbformat": 4,
  "vscode": {
   "interpreter": {
    "hash": "916dbcbb3f70747c44a77c7bcd40155683ae19c65e1c03b4aa3499c5328201f1"
   }
  }
 },
 "nbformat": 4,
 "nbformat_minor": 2
}
